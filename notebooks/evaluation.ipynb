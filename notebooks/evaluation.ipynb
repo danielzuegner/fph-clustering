{
 "cells": [
  {
   "cell_type": "code",
   "execution_count": null,
   "metadata": {},
   "outputs": [],
   "source": [
    "import pandas as pd\n",
    "import json"
   ]
  },
  {
   "cell_type": "code",
   "execution_count": null,
   "metadata": {},
   "outputs": [],
   "source": [
    "# First, run your experiments, e.g., via `experiments.ipynb`."
   ]
  },
  {
   "cell_type": "code",
   "execution_count": null,
   "metadata": {},
   "outputs": [],
   "source": [
    "with open('results.json', 'r') as f:\n",
    "    inp = json.load(f)\n",
    "df = pd.json_normalize(inp)\n",
    "df['load_data.dataset_name'] = df['load_data.dataset_name'].apply(lambda x: x.lower())"
   ]
  },
  {
   "cell_type": "code",
   "execution_count": null,
   "metadata": {},
   "outputs": [],
   "source": [
    "df_dasgupta = df[df['model.model_params.loss'] == 'DASGUPTA']\n",
    "df_tsd = df[df['model.model_params.loss'] == 'TSD']"
   ]
  },
  {
   "cell_type": "code",
   "execution_count": null,
   "metadata": {},
   "outputs": [],
   "source": [
    "df_dasgupta.groupby(['load_data.dataset_name', 'model.model_params.loss'], dropna=False)[['results.dasgupta']].agg(['mean'],).round(2)"
   ]
  },
  {
   "cell_type": "code",
   "execution_count": null,
   "metadata": {},
   "outputs": [],
   "source": [
    "df_tsd.groupby(['load_data.dataset_name', 'model.model_params.loss'], dropna=False)[['results.skn_TSD']].agg(['mean'],).round(2)"
   ]
  }
 ],
 "metadata": {
  "interpreter": {
   "hash": "b8d90bb62f668800c85af9032dc5257ccf52053ab2e3fa737e17ac282e16069f"
  },
  "kernelspec": {
   "display_name": "Python 3.8.1 ('torch')",
   "language": "python",
   "name": "python3"
  },
  "language_info": {
   "codemirror_mode": {
    "name": "ipython",
    "version": 3
   },
   "file_extension": ".py",
   "mimetype": "text/x-python",
   "name": "python",
   "nbconvert_exporter": "python",
   "pygments_lexer": "ipython3",
   "version": "3.9.7"
  },
  "orig_nbformat": 4
 },
 "nbformat": 4,
 "nbformat_minor": 2
}
