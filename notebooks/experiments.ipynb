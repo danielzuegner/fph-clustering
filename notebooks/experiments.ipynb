{
 "cells": [
  {
   "cell_type": "code",
   "execution_count": null,
   "metadata": {
    "tags": []
   },
   "outputs": [],
   "source": [
    "import importlib\n",
    "from sacred import Experiment\n",
    "import os\n",
    "import json\n",
    "import yaml"
   ]
  },
  {
   "cell_type": "code",
   "execution_count": null,
   "metadata": {},
   "outputs": [],
   "source": [
    "loss = 'TSD'   # or 'DASGUPTA'\n",
    "dataset = 'polblogs'\n",
    "data_root_path = '../data'"
   ]
  },
  {
   "cell_type": "code",
   "execution_count": null,
   "metadata": {},
   "outputs": [],
   "source": [
    "config_path = f\"../configs/{loss}/{dataset.lower()}.yaml\""
   ]
  },
  {
   "cell_type": "code",
   "execution_count": null,
   "metadata": {},
   "outputs": [],
   "source": [
    "with open(config_path, 'r') as f:\n",
    "    c = yaml.load(f, yaml.SafeLoader)\n",
    "c['load_data']['data_root_path'] = os.path.abspath(data_root_path)"
   ]
  },
  {
   "cell_type": "code",
   "execution_count": null,
   "metadata": {},
   "outputs": [],
   "source": [
    "c"
   ]
  },
  {
   "cell_type": "code",
   "execution_count": null,
   "metadata": {},
   "outputs": [],
   "source": [
    "module = importlib.import_module(f\"fph_clustering.train\")\n",
    "\n",
    "run = None\n",
    "for attr in dir(module):\n",
    "    if isinstance(getattr(module, attr), Experiment):\n",
    "        run = getattr(module, attr).run"
   ]
  },
  {
   "cell_type": "code",
   "execution_count": null,
   "metadata": {},
   "outputs": [],
   "source": [
    "# Results will be stored into this JSON file:\n",
    "res_p = 'results.json'"
   ]
  },
  {
   "cell_type": "code",
   "execution_count": null,
   "metadata": {},
   "outputs": [],
   "source": [
    "r = run(config_updates=c)"
   ]
  },
  {
   "cell_type": "code",
   "execution_count": null,
   "metadata": {},
   "outputs": [],
   "source": [
    "results = []\n",
    "if os.path.exists(res_p):\n",
    "    with open(res_p, 'r') as f:\n",
    "        results = json.load(f)\n",
    "results.append({**c, 'results': r.result})\n",
    "with open(res_p, 'w') as f:\n",
    "    json.dump(results, f)"
   ]
  }
 ],
 "metadata": {
  "interpreter": {
   "hash": "b8d90bb62f668800c85af9032dc5257ccf52053ab2e3fa737e17ac282e16069f"
  },
  "kernelspec": {
   "display_name": "Python (torch)",
   "language": "python",
   "name": "python3"
  },
  "language_info": {
   "codemirror_mode": {
    "name": "ipython",
    "version": 3
   },
   "file_extension": ".py",
   "mimetype": "text/x-python",
   "name": "python",
   "nbconvert_exporter": "python",
   "pygments_lexer": "ipython3",
   "version": "3.9.7"
  }
 },
 "nbformat": 4,
 "nbformat_minor": 4
}
