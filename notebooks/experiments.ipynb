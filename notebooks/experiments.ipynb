{
 "cells": [
  {
   "cell_type": "code",
   "execution_count": 1,
   "metadata": {
    "tags": []
   },
   "outputs": [],
   "source": [
    "import importlib\n",
    "from sacred import Experiment\n",
    "import os\n",
    "import json\n",
    "import yaml"
   ]
  },
  {
   "cell_type": "code",
   "execution_count": 2,
   "metadata": {},
   "outputs": [],
   "source": [
    "loss = ['TSD', 'DASGUPTA'][1]\n",
    "dataset = 'citeseer'\n",
    "data_root_path = '../data'"
   ]
  },
  {
   "cell_type": "code",
   "execution_count": 3,
   "metadata": {},
   "outputs": [],
   "source": [
    "config_path = f\"../configs/{loss}/{dataset.lower()}.yaml\""
   ]
  },
  {
   "cell_type": "code",
   "execution_count": 4,
   "metadata": {},
   "outputs": [],
   "source": [
    "with open(config_path, 'r') as f:\n",
    "    c = yaml.load(f, yaml.SafeLoader)\n",
    "c['load_data']['data_root_path'] = os.path.abspath(data_root_path)"
   ]
  },
  {
   "cell_type": "code",
   "execution_count": 5,
   "metadata": {},
   "outputs": [],
   "source": [
    "# customize config, e.g., \n",
    "c['training']['max_epochs'] = 10"
   ]
  },
  {
   "cell_type": "code",
   "execution_count": 6,
   "metadata": {},
   "outputs": [
    {
     "data": {
      "text/plain": [
       "{'load_data': {'dtype': 'float64',\n",
       "  'dataset_name': 'citeseer',\n",
       "  'dataset_params': {'select_lcc': True,\n",
       "   'remove_selfloops': False,\n",
       "   'make_undirected': True,\n",
       "   'make_unweighted': True},\n",
       "  'data_root_path': '/Users/danielzuegner/Documents/TUM/fph-clustering/data'},\n",
       " 'model': {'model_type': 'FPHConstrainedDirectParameterization',\n",
       "  'model_params': {'loss': 'DASGUPTA',\n",
       "   'store_on_cpu_process_on_gpu': False,\n",
       "   'internal_nodes': 512,\n",
       "   'same_leaf_correction': False,\n",
       "   'optimizer_params': {'optimizer_type': 'PGD', 'opt_params.lr': 0.05}},\n",
       "  'store_best_hierarchy': True,\n",
       "  'tree_init': 'avg'},\n",
       " 'training': {'max_epochs': 10, 'use_gpu': True, 'val_every': 1}}"
      ]
     },
     "execution_count": 6,
     "metadata": {},
     "output_type": "execute_result"
    }
   ],
   "source": [
    "c"
   ]
  },
  {
   "cell_type": "code",
   "execution_count": 7,
   "metadata": {},
   "outputs": [
    {
     "name": "stderr",
     "output_type": "stream",
     "text": [
      "WARNING:root:The OGB package is out of date. Your version is 1.3.2, while the latest version is 1.3.3.\n"
     ]
    }
   ],
   "source": [
    "module = importlib.import_module(f\"fph_clustering.train\")\n",
    "\n",
    "run = None\n",
    "for attr in dir(module):\n",
    "    if isinstance(getattr(module, attr), Experiment):\n",
    "        run = getattr(module, attr).run"
   ]
  },
  {
   "cell_type": "code",
   "execution_count": 8,
   "metadata": {},
   "outputs": [],
   "source": [
    "# Results will be stored into this JSON file:\n",
    "res_p = 'results.json'"
   ]
  },
  {
   "cell_type": "code",
   "execution_count": 9,
   "metadata": {},
   "outputs": [
    {
     "name": "stderr",
     "output_type": "stream",
     "text": [
      "/Users/danielzuegner/miniforge3/envs/pytorch_m1/lib/python3.9/site-packages/sacred-0.8.2-py3.9.egg/sacred/utils.py:345: DeprecationWarning: Using or importing the ABCs from 'collections' instead of from 'collections.abc' is deprecated since Python 3.3, and in 3.10 it will stop working\n",
      "  if isinstance(v, collections.Mapping):\n",
      "WARNING:root:Added new config entry: \"load_data.data_root_path\"\n",
      "WARNING:root:Added new config entry: \"load_data.dataset_name\"\n",
      "WARNING:root:Added new config entry: \"load_data.dataset_params.make_undirected\"\n",
      "WARNING:root:Added new config entry: \"load_data.dataset_params.make_unweighted\"\n",
      "WARNING:root:Added new config entry: \"load_data.dataset_params.remove_selfloops\"\n",
      "WARNING:root:Added new config entry: \"load_data.dataset_params.select_lcc\"\n",
      "WARNING:root:Added new config entry: \"load_data.dtype\"\n",
      "WARNING:root:Added new config entry: \"model.model_params.internal_nodes\"\n",
      "WARNING:root:Added new config entry: \"model.model_params.loss\"\n",
      "WARNING:root:Added new config entry: \"model.model_params.optimizer_params.opt_params.lr\"\n",
      "WARNING:root:Added new config entry: \"model.model_params.optimizer_params.optimizer_type\"\n",
      "WARNING:root:Added new config entry: \"model.model_params.same_leaf_correction\"\n",
      "WARNING:root:Added new config entry: \"model.model_params.store_on_cpu_process_on_gpu\"\n",
      "WARNING:root:Added new config entry: \"model.model_type\"\n",
      "WARNING:root:Added new config entry: \"model.store_best_hierarchy\"\n",
      "WARNING:root:Added new config entry: \"model.tree_init\"\n",
      "WARNING:root:Added new config entry: \"training.max_epochs\"\n",
      "WARNING:root:Added new config entry: \"training.use_gpu\"\n",
      "WARNING:root:Added new config entry: \"training.val_every\"\n",
      "WARNING:train:No observers have been added to this run\n",
      "/Users/danielzuegner/miniforge3/envs/pytorch_m1/lib/python3.9/site-packages/pytorch_lightning-1.5.9-py3.9.egg/pytorch_lightning/trainer/connectors/callback_connector.py:147: LightningDeprecationWarning: Setting `Trainer(checkpoint_callback=False)` is deprecated in v1.5 and will be removed in v1.7. Please consider using `Trainer(enable_checkpointing=False)`.\n",
      "  rank_zero_deprecation(\n",
      "/Users/danielzuegner/miniforge3/envs/pytorch_m1/lib/python3.9/site-packages/pytorch_lightning-1.5.9-py3.9.egg/pytorch_lightning/trainer/connectors/callback_connector.py:90: LightningDeprecationWarning: Setting `Trainer(progress_bar_refresh_rate=1)` is deprecated in v1.5 and will be removed in v1.7. Please pass `pytorch_lightning.callbacks.progress.TQDMProgressBar` with `refresh_rate` directly to the Trainer's `callbacks` argument instead. Or, to disable the progress bar pass `enable_progress_bar = False` to the Trainer.\n",
      "  rank_zero_deprecation(\n",
      "GPU available: False, used: False\n",
      "TPU available: False, using: 0 TPU cores\n",
      "IPU available: False, using: 0 IPUs\n",
      "\n",
      "  | Name | Type      | Params\n",
      "-----------------------------------\n",
      "0 | A_u  | Embedding | 1.1 M \n",
      "-----------------------------------\n",
      "1.3 M     Trainable params\n",
      "0         Non-trainable params\n",
      "1.3 M     Total params\n",
      "5.370     Total estimated model params size (MB)\n"
     ]
    },
    {
     "data": {
      "application/vnd.jupyter.widget-view+json": {
       "model_id": "",
       "version_major": 2,
       "version_minor": 0
      },
      "text/plain": [
       "Validation sanity check: 0it [00:00, ?it/s]"
      ]
     },
     "metadata": {},
     "output_type": "display_data"
    },
    {
     "name": "stderr",
     "output_type": "stream",
     "text": [
      "/Users/danielzuegner/miniforge3/envs/pytorch_m1/lib/python3.9/site-packages/pytorch_lightning-1.5.9-py3.9.egg/pytorch_lightning/trainer/data_loading.py:132: UserWarning: The dataloader, val_dataloader 0, does not have many workers which may be a bottleneck. Consider increasing the value of the `num_workers` argument` (try 10 which is the number of cpus on this machine) in the `DataLoader` init to improve performance.\n",
      "  rank_zero_warn(\n",
      "/Users/danielzuegner/miniforge3/envs/pytorch_m1/lib/python3.9/site-packages/pytorch_lightning-1.5.9-py3.9.egg/pytorch_lightning/utilities/data.py:59: UserWarning: Trying to infer the `batch_size` from an ambiguous collection. The batch size we found is 2110. To avoid any miscalculations, use `self.log(..., batch_size=batch_size)`.\n",
      "  warning_cache.warn(\n",
      "/Users/danielzuegner/miniforge3/envs/pytorch_m1/lib/python3.9/site-packages/pytorch_lightning-1.5.9-py3.9.egg/pytorch_lightning/trainer/data_loading.py:132: UserWarning: The dataloader, train_dataloader, does not have many workers which may be a bottleneck. Consider increasing the value of the `num_workers` argument` (try 10 which is the number of cpus on this machine) in the `DataLoader` init to improve performance.\n",
      "  rank_zero_warn(\n",
      "/Users/danielzuegner/miniforge3/envs/pytorch_m1/lib/python3.9/site-packages/pytorch_lightning-1.5.9-py3.9.egg/pytorch_lightning/trainer/data_loading.py:432: UserWarning: The number of training samples (1) is smaller than the logging interval Trainer(log_every_n_steps=50). Set a lower value for log_every_n_steps if you want to see logs for the training epoch.\n",
      "  rank_zero_warn(\n"
     ]
    },
    {
     "data": {
      "application/vnd.jupyter.widget-view+json": {
       "model_id": "96a6226762f64778be6088382e378b35",
       "version_major": 2,
       "version_minor": 0
      },
      "text/plain": [
       "Training: 0it [00:00, ?it/s]"
      ]
     },
     "metadata": {},
     "output_type": "display_data"
    },
    {
     "data": {
      "application/vnd.jupyter.widget-view+json": {
       "model_id": "",
       "version_major": 2,
       "version_minor": 0
      },
      "text/plain": [
       "Validating: 0it [00:00, ?it/s]"
      ]
     },
     "metadata": {},
     "output_type": "display_data"
    },
    {
     "data": {
      "application/vnd.jupyter.widget-view+json": {
       "model_id": "",
       "version_major": 2,
       "version_minor": 0
      },
      "text/plain": [
       "Validating: 0it [00:00, ?it/s]"
      ]
     },
     "metadata": {},
     "output_type": "display_data"
    },
    {
     "data": {
      "application/vnd.jupyter.widget-view+json": {
       "model_id": "",
       "version_major": 2,
       "version_minor": 0
      },
      "text/plain": [
       "Validating: 0it [00:00, ?it/s]"
      ]
     },
     "metadata": {},
     "output_type": "display_data"
    },
    {
     "data": {
      "application/vnd.jupyter.widget-view+json": {
       "model_id": "",
       "version_major": 2,
       "version_minor": 0
      },
      "text/plain": [
       "Validating: 0it [00:00, ?it/s]"
      ]
     },
     "metadata": {},
     "output_type": "display_data"
    },
    {
     "data": {
      "application/vnd.jupyter.widget-view+json": {
       "model_id": "",
       "version_major": 2,
       "version_minor": 0
      },
      "text/plain": [
       "Validating: 0it [00:00, ?it/s]"
      ]
     },
     "metadata": {},
     "output_type": "display_data"
    },
    {
     "data": {
      "application/vnd.jupyter.widget-view+json": {
       "model_id": "",
       "version_major": 2,
       "version_minor": 0
      },
      "text/plain": [
       "Validating: 0it [00:00, ?it/s]"
      ]
     },
     "metadata": {},
     "output_type": "display_data"
    },
    {
     "data": {
      "application/vnd.jupyter.widget-view+json": {
       "model_id": "",
       "version_major": 2,
       "version_minor": 0
      },
      "text/plain": [
       "Validating: 0it [00:00, ?it/s]"
      ]
     },
     "metadata": {},
     "output_type": "display_data"
    },
    {
     "data": {
      "application/vnd.jupyter.widget-view+json": {
       "model_id": "",
       "version_major": 2,
       "version_minor": 0
      },
      "text/plain": [
       "Validating: 0it [00:00, ?it/s]"
      ]
     },
     "metadata": {},
     "output_type": "display_data"
    },
    {
     "data": {
      "application/vnd.jupyter.widget-view+json": {
       "model_id": "",
       "version_major": 2,
       "version_minor": 0
      },
      "text/plain": [
       "Validating: 0it [00:00, ?it/s]"
      ]
     },
     "metadata": {},
     "output_type": "display_data"
    },
    {
     "data": {
      "application/vnd.jupyter.widget-view+json": {
       "model_id": "",
       "version_major": 2,
       "version_minor": 0
      },
      "text/plain": [
       "Validating: 0it [00:00, ?it/s]"
      ]
     },
     "metadata": {},
     "output_type": "display_data"
    },
    {
     "name": "stdout",
     "output_type": "stream",
     "text": [
      "Learned hierarchy stored at /Users/danielzuegner/Documents/TUM/fph-clustering/notebooks/lightning_logs/version_5/A_B.gzip.\n"
     ]
    }
   ],
   "source": [
    "r = run(config_updates=c)"
   ]
  },
  {
   "cell_type": "code",
   "execution_count": 10,
   "metadata": {},
   "outputs": [],
   "source": [
    "results = []\n",
    "if os.path.exists(res_p):\n",
    "    with open(res_p, 'r') as f:\n",
    "        results = json.load(f)\n",
    "results.append({**c, 'results': r.result})\n",
    "with open(res_p, 'w') as f:\n",
    "    json.dump(results, f)"
   ]
  },
  {
   "cell_type": "code",
   "execution_count": null,
   "metadata": {},
   "outputs": [],
   "source": []
  }
 ],
 "metadata": {
  "interpreter": {
   "hash": "b8d90bb62f668800c85af9032dc5257ccf52053ab2e3fa737e17ac282e16069f"
  },
  "kernelspec": {
   "display_name": "Python 3 (ipykernel)",
   "language": "python",
   "name": "python3"
  },
  "language_info": {
   "codemirror_mode": {
    "name": "ipython",
    "version": 3
   },
   "file_extension": ".py",
   "mimetype": "text/x-python",
   "name": "python",
   "nbconvert_exporter": "python",
   "pygments_lexer": "ipython3",
   "version": "3.9.7"
  }
 },
 "nbformat": 4,
 "nbformat_minor": 4
}
